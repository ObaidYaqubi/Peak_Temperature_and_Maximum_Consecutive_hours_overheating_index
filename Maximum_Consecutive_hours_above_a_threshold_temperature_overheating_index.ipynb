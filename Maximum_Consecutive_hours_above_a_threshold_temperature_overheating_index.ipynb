{
 "cells": [
  {
   "cell_type": "code",
   "execution_count": 1,
   "metadata": {},
   "outputs": [],
   "source": [
    "import numpy as np \n",
    "import pandas as pd\n",
    "import matplotlib.pyplot as plt\n",
    "%matplotlib inline\n",
    "%config Completer.use_jedi = False"
   ]
  },
  {
   "cell_type": "code",
   "execution_count": null,
   "metadata": {},
   "outputs": [],
   "source": [
    "from itertools import groupby, count"
   ]
  },
  {
   "cell_type": "code",
   "execution_count": null,
   "metadata": {},
   "outputs": [],
   "source": [
    "## number of hours Indoor operative temperature is consecutively above 27 degree in multiple zones\n",
    "OT=[]\n",
    "for column in df1[['TOP_4_1',\n",
    "                   'TOP_3_2','TOP_3_3','TOP_3_4','TOP_3_5','TOP_3_6',\n",
    "                   'TOP_2_7','TOP_2_8','TOP_2_9','TOP_2_10','TOP_2_11',\n",
    "                   'TOP_1_12','TOP_1_13','TOP_1_14','TOP_1_15','TOP_1_16']]:\n",
    "    ComT=[]\n",
    "    for i, row in df1.iterrows():\n",
    "        if df1[column][i]>27:\n",
    "            TY = 1\n",
    "        else:\n",
    "            TY = 0\n",
    "        ComT.append(TY)\n",
    "    Adap=max([(k, sum(1 for i in g)) for k,g in groupby(ComT)])[1]\n",
    "    OT.append(Adap)\n",
    "ConsecDataFrame=pd.DataFrame(OT,columns=['Maximum consective hours above 27'])"
   ]
  },
  {
   "cell_type": "code",
   "execution_count": null,
   "metadata": {},
   "outputs": [],
   "source": [
    "## Peak operative temperature of the zones where maximum number of consecutive hours have been calculated\n",
    "OT=[]\n",
    "for column in df1[['TOP_4_1',\n",
    "                   'TOP_3_2','TOP_3_3','TOP_3_4','TOP_3_5','TOP_3_6',\n",
    "                   'TOP_2_7','TOP_2_8','TOP_2_9','TOP_2_10','TOP_2_11',\n",
    "                   'TOP_1_12','TOP_1_13','TOP_1_14','TOP_1_15','TOP_1_16']]:\n",
    "    ComT=[]\n",
    "    for i, row in df1.iterrows():\n",
    "        if df1[column][i]>27:\n",
    "            TY = df1[column][i]\n",
    "        else:\n",
    "            TY = 0\n",
    "        ComT.append(TY)\n",
    "    Adap=round(max([(k, sum(1 for i in g)) for k,g in groupby(ComT)])[0])\n",
    "    OT.append(Adap)\n",
    "ConsecDataFrame['Peak operative temperature']=OT"
   ]
  }
 ],
 "metadata": {
  "kernelspec": {
   "display_name": "Python 3",
   "language": "python",
   "name": "python3"
  },
  "language_info": {
   "codemirror_mode": {
    "name": "ipython",
    "version": 3
   },
   "file_extension": ".py",
   "mimetype": "text/x-python",
   "name": "python",
   "nbconvert_exporter": "python",
   "pygments_lexer": "ipython3",
   "version": "3.8.6"
  }
 },
 "nbformat": 4,
 "nbformat_minor": 4
}
